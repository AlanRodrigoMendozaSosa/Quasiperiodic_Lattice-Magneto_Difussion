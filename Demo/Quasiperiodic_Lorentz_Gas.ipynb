{
 "cells": [
  {
   "cell_type": "markdown",
   "metadata": {},
   "source": [
    "# Quasiperiodic Lorentz Gas"
   ]
  },
  {
   "cell_type": "markdown",
   "metadata": {},
   "source": [
    "In this notebook we will see how the apply the code contained in the file \"Magnetorresistencia_En_Cuasicristales.jl\" to study the diffusion of an electron in a 2D plate doped with antiquantum dots in the presence of an external magnetic field. To do that we use a generalization of the \"Cut-and-Project\" method."
   ]
  },
  {
   "cell_type": "markdown",
   "metadata": {},
   "source": [
    "First, let's load the file that contain all the code that we will use in this notebook."
   ]
  },
  {
   "cell_type": "code",
   "execution_count": 1,
   "metadata": {},
   "outputs": [
    {
     "data": {
      "text/plain": [
       "dibuja_Circulo (generic function with 2 methods)"
      ]
     },
     "execution_count": 1,
     "metadata": {},
     "output_type": "execute_result"
    }
   ],
   "source": [
    "include(\"Magnetorresistencia_En_Cuasicristales.jl\");"
   ]
  },
  {
   "cell_type": "markdown",
   "metadata": {},
   "source": [
    "To visualize our results we will use the \"Plots\" package, so let's load it."
   ]
  },
  {
   "cell_type": "code",
   "execution_count": 2,
   "metadata": {},
   "outputs": [],
   "source": [
    "using Plots"
   ]
  },
  {
   "cell_type": "markdown",
   "metadata": {},
   "source": [
    "### Configuration of the system"
   ]
  },
  {
   "cell_type": "markdown",
   "metadata": {},
   "source": [
    "Let's generate the parameters that will define our system:"
   ]
  },
  {
   "cell_type": "code",
   "execution_count": 51,
   "metadata": {},
   "outputs": [],
   "source": [
    "Box_Size_Length = 1.0; #The length of one side of the cubic box centered at the origin that will contain the cylinder.\n",
    "Cylinder_Axis = [π*0.008, sqrt(2)*0.008, 1]; #Vector that point into the direction of the cylinder axis.\n",
    "Cylinder_Axis = Cylinder_Axis/norm(Cylinder_Axis); #Let's normalize the vector Cylinder_Axis.\n",
    "Trajectory_Radius = 0.506; #Radius of the circular trajectory that follows our particle.\n",
    "\n",
    "Z_to_Cyl_Matrix = mat_Rot(Cylinder_Axis); #Generate the matrix that rotates the vector (0,0,1) to the vector \"Cylinder_Axis\"\n",
    "Cyl_to_Z_Matrix = (Z_to_Cyl_Matrix)^-1; #Generate the matrix that rotates the vector \"Cylinder_Axis\" to the vector (0,0,1)\n",
    "Cylinder_Radius = 0.28; #Define the radius of the cylinder inside the unitary cube.\n",
    "\n",
    "#Now let's calculates the length of the cylinder. This length will be determinated as the maximum distance between the\n",
    "#projections to the \"infinite\" cylinder of the vertices of the cube.\n",
    "Cylinder_Length = longitud_Cilindro(Box_Size_Length, Cyl_to_Z_Matrix);"
   ]
  },
  {
   "cell_type": "markdown",
   "metadata": {},
   "source": [
    "### Algorithm for the Mean Square Displacement of a particle"
   ]
  },
  {
   "cell_type": "code",
   "execution_count": null,
   "metadata": {},
   "outputs": [],
   "source": [
    "Iterations_Number = 10; #Number of trajectories that we will consider.\n",
    "\n",
    "MSD_Array = []; #An array that will contain the Mean Square Displacement of the different trajectories.\n",
    "TX = Array[]; #An array that will contain the X coordinates of one trajectory\n",
    "TY = Array[]; #An array that will contain the Y coordinates of one trajectory\n",
    "Centers_D = Array[]; #I HAVE NO IDEA FOR WHAT IT'S THIS ARRAY.\n",
    "Initial_Position_X_Array = Array[]; #An array that will contain the X coordinates of the different initial positions\n",
    "Initial_Position_Y_Array = Array[]; #An array that will contain the Y coordinates of the different initial positions\n",
    "\n",
    "for i in 1:Iterations_Number\n",
    "    @show i #We show to the user the actual step of the iterations.\n",
    "    θ = π*rand() - π/2; #Let's define one angle between -π/2 and π/2.\n",
    "    θ2 = π*rand(); #Let's define one angle between 0 and π.\n",
    "    Height = rand()-0.5; #Height of the initial position of the particle.\n",
    "    N_Total = zeros(Float64, 3); #I HAVE NO IDEA FOR WHAT IT'S THIS PARAMETER.\n",
    "    Collision_Position = [Cylinder_Radius*cos(θ2), Cylinder_Radius*sin(θ2), 0.0]; #Position projected in the plane XY after the cylinder is vertical associated with the point where the particle collide with the cylinder.\n",
    "    Normalized_Collision_Position = Collision_Position/norm(Collision_Position); #Let's normalize the vector Collision_Position.\n",
    "    Velocity = [cos(θ),sin(θ),0.0]; #Velocity vector in the plane XY with arbitrary direction between the quadrants [IV,I]\n",
    "    Orthogonal_Velocity = (Normalized_Collision_Position⋅Velocity)*[Normalized_Collision_Position[1], Normalized_Collision_Position[2], 0.0]; #Orthogonal component of the velocity of the particle after the collision.\n",
    "    Velocity_After_Collision = Velocity - 2*Orthogonal_Velocity; #Tangent component of the velocity of the particle after the collision.\n",
    "    Velocity_After_Collision = Z_to_Cyl_Matrix*Velocity_After_Collision; #Get this component of the velocity after the collision in the coordinates where the cylinder is not vertical.\n",
    "    \n",
    "    Initial_Velocity = Velocity_After_Collision; #Let's set the initial velocity of our particle as the velocity after one collision in the coordinates where the cylinder is not vertical.\n",
    "    Initial_Position = Z_to_Cyl_Matrix*(Collision_Position + [0.0, 0.0, Height]) - Initial_Velocity * 0.000000001; #Let's set the initial position of our particle as the position an instant after the collision.\n",
    "    \n",
    "    Initial_Position_Cyl_Vertical = Cyl_to_Z_Matrix*Initial_Position; #Initial position of our particle in the coordinates where the cylinder is vertical.\n",
    "    push!(Initial_Position_X_Array, [Initial_Position_Cyl_Vertical[1]]); #Let's push the X coordinate of the initial position in the space where the cylinder is vertical into the corresponding array.\n",
    "    push!(Initial_Position_Y_Array, [Initial_Position_Cyl_Vertical[2]]); #Let's push the Y coordinate of the initial position in the space where the cylinder is vertical into the corresponding array.\n",
    "    \n",
    "    Fly_Time = 10; #Determine the length of the whole trajectory of the particle.\n",
    "    Initial_Velocity /= norm(Initial_Velocity); #Let's normalize the initial velocity of our particle.\n",
    "    \n",
    "    Centers = []; #I HAVE NO IDEA FOR WHAT IT'S THIS ARRAY.\n",
    "    Tx = []; #I HAVE NO IDEA FOR WHAT IT'S THIS ARRAY.\n",
    "    Ty= []; #I HAVE NO IDEA FOR WHAT IT'S THIS ARRAY.\n",
    "    CEN = Array[]; #I HAVE NO IDEA FOR WHAT IT'S THIS ARRAY."
   ]
  },
  {
   "cell_type": "code",
   "execution_count": null,
   "metadata": {},
   "outputs": [],
   "source": []
  }
 ],
 "metadata": {
  "kernelspec": {
   "display_name": "Julia 1.2.0",
   "language": "julia",
   "name": "julia-1.2"
  },
  "language_info": {
   "file_extension": ".jl",
   "mimetype": "application/julia",
   "name": "julia",
   "version": "1.2.0"
  }
 },
 "nbformat": 4,
 "nbformat_minor": 2
}
